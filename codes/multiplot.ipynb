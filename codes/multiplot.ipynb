{
 "cells": [
  {
   "cell_type": "code",
   "execution_count": null,
   "metadata": {},
   "outputs": [],
   "source": [
    "import numpy as np\n",
    "import matplotlib.pyplot as plt"
   ]
  },
  {
   "cell_type": "code",
   "execution_count": null,
   "metadata": {},
   "outputs": [],
   "source": [
    "def plotter(x,y,par,par_name='',add_edges=False,xlow=6,xhigh=200):\n",
    "    plt.rc('text', usetex=True)\n",
    "    plt.rc('font', family='serif')\n",
    "\n",
    "    fig,ax=plt.subplots(figsize=(8.3,7.5),dpi=300)\n",
    "    fig.subplots_adjust(left=0.12, bottom=0.07, right=0.88, top=0.97)\n",
    "    clr=['b','r','limegreen','magenta','peru','dodgerblue']\n",
    "    heading=''\n",
    "    leng = len(y[:,0])\n",
    "    for i in range(leng):\n",
    "        ax.plot(x,y[i,:],color=clr[i],label=par[i])\n",
    "\n",
    "    if add_edges==True:\n",
    "        nu_edges=np.load('nu_edges.npy')\n",
    "        Z_edges=1420/nu_edges\n",
    "        T21_edges=np.load('T21_edges.npy')\n",
    "        res=np.load('residue.npy')\n",
    "        ax.plot(Z_edges,1000*(T21_edges+res),'k--',lw=1.5,label='EDGES')\n",
    "        secax = ax.secondary_xaxis('top', functions=(Z2nu,nu2Z))\n",
    "        secax.set_xlabel(r'$\\nu\\,(\\mathrm{MHz})$',fontsize=20, labelpad=12)\n",
    "        secax.minorticks_on()\n",
    "        secax.tick_params(axis='x',which='major', length=5, width=1, labelsize=20,direction='in')\n",
    "        secax.tick_params(axis='x',which='minor', length=3, width=1, direction='in')\n",
    "    else:\n",
    "        ax.xaxis.set_ticks_position('both')\n",
    "    ax.axhline(y=0,ls=':',color='k')\n",
    "    ax.set_xlim([xlow,xhigh])\n",
    "    ax.set_ylabel(r'$T_{21}\\,$(mK)',fontsize=20)    \n",
    "    ax.set_xlabel(r'$1+z$',fontsize=20)    \n",
    "    ax.tick_params(axis='both', which='major', length=5, width=1, labelsize=20,direction='in')\n",
    "    ax.tick_params(axis='both', which='minor', length=3, width=1, direction='in')\n",
    "    ax.minorticks_on()\n",
    "    ax.invert_xaxis()\n",
    "    ax.yaxis.set_ticks_position('both')\n",
    "    if par_name=='fx' or par_name=='fX':\n",
    "        heading = r'$f_{\\mathrm{X}}$'\n",
    "    elif par_name=='fa' or par_name=='falp':\n",
    "        heading = r'$f_{\\alpha}$'\n",
    "    elif par_name=='fs' or par_name=='fstar':\n",
    "        heading = r'$f_{\\star}$'\n",
    "    elif par_name=='Tvir' or par_name=='Tmin_vir':\n",
    "        heading = r'$\\mathrm{min}(T_{\\mathrm{vir}}$'\n",
    "    elif par_name=='Zstar':\n",
    "        heading = r'$z_{\\star}$'\n",
    "    else:\n",
    "        print('Warning: unknown parameter')\n",
    "    ax.legend(title=heading,title_fontsize=18,fontsize=18,frameon=False)        \n",
    "    ax.set_aspect(1.0/ax.get_data_ratio(), adjustable='box')\n",
    "    plt.show()\n",
    "    #plt.savefig(quant_name+'.pdf')\n",
    "    return "
   ]
  },
  {
   "cell_type": "code",
   "execution_count": null,
   "metadata": {},
   "outputs": [],
   "source": [
    "Z_start = 1501\n",
    "Z_end = 6\n",
    "Ngrid = 1000\n",
    "\n",
    "Z_eval = np.linspace(Z_start,Z_end,Ngrid)\n",
    "\n",
    "T21s=np.load('T21s.npy')\n",
    "\n",
    "fx=np.array([0.01,0.1,1])\n",
    "\n",
    "plotter(Z_eval,T21s,par=fx,par_name='fx')"
   ]
  }
 ],
 "metadata": {
  "kernelspec": {
   "display_name": "Python 3",
   "language": "python",
   "name": "python3"
  },
  "language_info": {
   "codemirror_mode": {
    "name": "ipython",
    "version": 3
   },
   "file_extension": ".py",
   "mimetype": "text/x-python",
   "name": "python",
   "nbconvert_exporter": "python",
   "pygments_lexer": "ipython3",
   "version": "3.8.5"
  }
 },
 "nbformat": 4,
 "nbformat_minor": 4
}
