{
 "cells": [
  {
   "cell_type": "markdown",
   "metadata": {},
   "source": [
    "# Avanced 21-cm Cosmology\n",
    "## [Shikhar Mittal (TIFR)](https://sites.google.com/view/shikharmittal/home)\n",
    "shikhar.mittal@tifr.res.in\n",
    "\n",
    "If you use this notebook please cite [Mittal & Kulkarni (2022)](https://doi.org/10.1093/mnras/stac1961)."
   ]
  },
  {
   "cell_type": "markdown",
   "metadata": {},
   "source": [
    "**Goal**: In this notebook we will calculate:\n",
    "1. the luminosity function\n",
    "2. number of galaxies seen by a survey\n",
    "3. compare our results with *HST* and *JWST* data"
   ]
  },
  {
   "cell_type": "markdown",
   "metadata": {},
   "source": [
    "**Theory**: Luminosity for a given halo mass $M_{\\mathrm{h}}$ is\n",
    "$$L_\\mathrm{UV}=f_\\star\\dot{M}_{0}\\left(\\frac{M_{\\mathrm{h}}}{10^{10}\\mathrm{M}_{\\odot}}\\right)^a\\left(\\frac{1+z}{7}\\right)^b\\mathcal{L}_{\\mathrm{UV}}\\,,$$\n",
    "where $\\mathcal{L}_{\\mathrm{UV}}=8.695\\times10^{20}\\,\\mathrm{WHz^{-1}(\\mathrm{M}_{\\odot}yr^{-1})^{-1}}$, $\\dot{M}_{0}=3\\,\\mathrm{M}_{\\odot}$yr$^{-1}$, $a=1.127$ and $b=2.5$.\n",
    "\n",
    "Absolute magnitude is [(Oke 1974)](http://dx.doi.org/10.1086/190287)\n",
    "\n",
    "$$\n",
    "M_\\mathrm{UV}=-2.5\\log_{10}\\left[\\frac{1}{4\\pi}\\left(\\frac{L_\\mathrm{UV}}{1\\,\\mathrm{WHz^{-1}}}\\right)\\left(\\frac{ d_{10}}{1\\,\\mathrm{m}}\\right)^{-2}\\right]-56.1\\,,\n",
    "$$\n",
    "where $d_{10}=10\\,$pc.\n",
    "\n",
    "The luminosity function is given by (called the halo abundance matching technique)\n",
    "$$\\mathrm{LF}=\\frac{d \\varphi(M_{\\lambda})}{d M_{\\lambda}}=\\frac{d n(M_{\\mathrm{h}})}{d M_{\\mathrm{h}}}\\frac{d M_{\\mathrm{h}}}{d L_\\lambda}\\frac{d L_\\lambda}{d M_\\lambda}\\,,$$\n",
    "where $d n$ is comoving number density of haloes with mass between $M_{\\mathrm{h}}$ and $M_{\\mathrm{h}}+d M_{\\mathrm{h}}$, $L_\\lambda$ is the specific luminosity at a wavelength $\\lambda$, and $M_\\lambda$ is the corresponding absolute magnitude.\n",
    "\n",
    "For $f_\\star$ independent of $M_{\\mathrm{h}}$ we get\n",
    "$$\n",
    "\\mathrm{LF}=-\\frac{2\\ln10}{5a}\\frac{d n}{d \\ln M_\\mathrm{h}}\\,,\n",
    "$$\n",
    "Eliminate $M_{\\mathrm{h}}$ from these equations to get LF as a function of $M_\\mathrm{UV}$.\n",
    "\n",
    "The number of galaxies brighter than a given limiting magnitude \n",
    "$$\n",
    "N(m_{\\mathrm{UV,lim}}\\ ,z)=\\Delta z\\frac{c}{H(z)}\\left(\\frac{d_\\mathrm{L}}{1+z}\\right)^2\\int_{M_{\\mathrm{h,lim}}}^{\\infty}\\ \\frac{d n}{d M_{\\mathrm{h}}}d M_{\\mathrm{h}}\\,,\n",
    "$$\n",
    "where $\\Delta z=1$ is the redshift bin, $M_{\\mathrm{h,lim}}$ is the limiting halo mass corresponding to limiting apparent magnitude $m_{\\mathrm{UV,lim}}\\,$ and $d_\\mathrm{L}$ is the luminosity distance.\n",
    "\n",
    "I have chosen the default value of $f_\\star=0.1$."
   ]
  },
  {
   "cell_type": "markdown",
   "metadata": {},
   "source": [
    "First load all the packages"
   ]
  },
  {
   "cell_type": "code",
   "execution_count": null,
   "metadata": {},
   "outputs": [],
   "source": [
    "import numpy as np\n",
    "import matplotlib.pyplot as plt\n",
    "import scipy.special as scsp\n",
    "import scipy.integrate as scint\n",
    "from colossus.cosmology import cosmology\n",
    "from colossus.lss import mass_function\n",
    "import sys"
   ]
  },
  {
   "cell_type": "markdown",
   "metadata": {},
   "source": [
    "Define all the constants and parameters"
   ]
  },
  {
   "cell_type": "code",
   "execution_count": null,
   "metadata": {},
   "outputs": [],
   "source": [
    "#Universal constants\n",
    "GN=6.67e-11 #Gravitational constant\n",
    "cE=2.998e8  #Speed of light\n",
    "kB=1.38e-23 #Boltzmann constant\n",
    "hP=6.634e-34 #Planck's contant\n",
    "mP=1.67e-27 #Mass of proton\n",
    "me=9.1e-31 #Mass of electron\n",
    "eC=1.6e-19 #Charge of electron\n",
    "epsilon=8.85e-12 #Permittivity of free space\n",
    "\n",
    "aS=7.52e-16 #Stephan's constant\n",
    "sigT=6.65e-29 #Thomson scattering cross-section, m^2\n",
    "#-------------------------------------------------------------\n",
    "#Cosmology\n",
    "my_cosmo = {'flat': True, 'H0': 67.4, 'Om0': 0.315, 'Ob0': 0.049, 'sigma8': 0.811, 'ns': 0.965,'relspecies': False,'Tcmb0': 2.725}\n",
    "cosmo = cosmology.setCosmology('my_cosmo', my_cosmo)\n",
    "\n",
    "Mpc2km = 3.0857e19\n",
    "Ho = my_cosmo['H0'] #Hubble parameter today; km/s/Mpc\n",
    "h100 = Ho/100 #Hubble parameter today; 1 km/s/Mpc\n",
    "Om_m = my_cosmo['Om0']\n",
    "Om_b = my_cosmo['Ob0']\n",
    "Om_lam = 1-Om_m\n",
    "Tcmbo = my_cosmo['Tcmb0']\n",
    "Yp = 0.245 #primordial helium fraction\n",
    "fnu = 0.68 #neutrino contribution to energy density in relativistic species; 3 massless nu's \n",
    "rho_crit=3*Ho**2/(8*np.pi*GN*Mpc2km**2) #critical density of the Universe today; kgm^-3\n",
    "Om_r = (1+fnu)*aS*Tcmbo**4/(cE**2*rho_crit)"
   ]
  },
  {
   "cell_type": "markdown",
   "metadata": {},
   "source": [
    "Set your free parameters here."
   ]
  },
  {
   "cell_type": "code",
   "execution_count": null,
   "metadata": {},
   "outputs": [],
   "source": [
    "a=1.127\n",
    "b=2.5\n",
    "Mdot0=3     #Solar mass per year\n",
    "l=8.695e20  #W/Hz/(Msun/yr)"
   ]
  },
  {
   "cell_type": "markdown",
   "metadata": {},
   "source": [
    "Define all the functions."
   ]
  },
  {
   "cell_type": "code",
   "execution_count": null,
   "metadata": {},
   "outputs": [],
   "source": [
    "def plotter(x,y,xlog=False,ylog=True,quant_name='',par_name='',params=[],add_hst=False,add_jwst=False):\n",
    "    plt.rc('text', usetex=True)\n",
    "    plt.rc('font', family='serif')\n",
    "\n",
    "    fig,ax=plt.subplots(figsize=(8.3,7.5),dpi=300)\n",
    "    fig.subplots_adjust(left=0.12, bottom=0.07, right=0.88, top=0.97)\n",
    "    clr=['b','r','limegreen','magenta','dodgerblue']\n",
    "    \n",
    "    heading=''\n",
    "    if par_name=='z':\n",
    "        heading = r'$z$'\n",
    "    elif par_name=='survey':\n",
    "        heading = 'Survey'\n",
    "    elif par_name=='fs' or par_name=='fstar':\n",
    "        heading = r'$f_{\\star}$'\n",
    "        ax.invert_xaxis()\n",
    "    else:\n",
    "        print('Warning: unknown parameter')\n",
    "\n",
    "    if np.ndim(y)>1:\n",
    "        leng = np.ndim(y)\n",
    "        for i in range(leng):\n",
    "            ax.plot(x,y[i,:],color=clr[i],label=params[i])\n",
    "        ax.legend(title=heading,title_fontsize=18,fontsize=18,frameon=False)\n",
    "    elif type(y)==np.ndarray:\n",
    "        ax.plot(x,y,'b',label='Our prediction at ' + heading + '$\\,=\\,${}'.format(params))\n",
    "        ax.legend(fontsize=18,frameon=False)\n",
    "    else:\n",
    "        print(\"Error: incorrect syntax! Give y as an array or a list of arrays. eg. [y1, y2, y3]\")\n",
    "        sys.exit()\n",
    "\n",
    "    if xlog==True:\n",
    "        ax.set_xscale('log')\n",
    "    if ylog==True:\n",
    "        ax.set_yscale('log')\n",
    "\n",
    "    if quant_name=='hmf' or quant_name=='HMF':\n",
    "        ax.set_ylabel(r'$\\frac{\\mathrm{d} n}{\\mathrm{d}\\ln M_\\mathrm{h}}\\,\\mathrm{cMpc^{-3}}$',fontsize=20)\n",
    "        ax.set_xlabel(r'$M_{\\mathrm{h}}\\,(\\mathrm{M}_\\odot)$',fontsize=20)\n",
    "    elif quant_name=='lf' or quant_name=='LF':\n",
    "        if add_hst==True:\n",
    "            MUV_hst=np.array([-22.52,-22.02,-21.52 ,-21.02 ,-20.52 ,-20.02 ,-19.52 ,-18.77 ,-17.77 ,-16.77])\n",
    "            LF_hst=np.array([0.000002,0.000015,0.000053,0.000176,0.000320,0.000698,0.001246,0.001900,0.006680,0.013640])\n",
    "            err_hst=np.array([0.000002,0.000006,0.000012,0.000025,0.000041,0.000083, 0.000137,0.00032,0.00138,0.0042])\n",
    "            ax.errorbar(MUV_hst,LF_hst,err_hst,color='k',lw=1.5, ls=':', label=r'HST $(z\\approx6)$')\n",
    "            ax.legend(fontsize=18,frameon=False)\n",
    "        elif add_jwst==True:\n",
    "            MUV_jwst=np.array([-22.1037, -20.8395, -20.5819, -19.7625, -19.2709])\n",
    "            LF_jwst=10**np.array([-6.09343, -5.02768, -4.76125, -3.98616, -3.84083])\n",
    "            ax.scatter(MUV_jwst,LF_jwst,color='k',lw=1.5, ls=':', label=r'JWST $(z\\approx11)$')\n",
    "            ax.legend(fontsize=18,frameon=False)\n",
    "        \n",
    "        ax.set_ylabel(r'$\\left|\\mathrm{d}\\varphi/\\mathrm{d}M_{\\mathrm{UV}}\\right|\\bigg(\\mathrm{cMpc}^{-3}\\,\\mathrm{mag}^{-1}\\bigg)$',fontsize=20)\n",
    "        ax.set_xlabel(r'$M_{\\mathrm{UV}}$',fontsize=20)\n",
    "    elif quant_name=='n' or quant_name=='N':\n",
    "        ax.set_ylabel(r'$N$',fontsize=20)\n",
    "        ax.set_xlabel(r'$1+z$',fontsize=20)\n",
    "    else:\n",
    "        print(\"Warning: unknown quantity. Plotting anyway!\")\n",
    "\n",
    "    \n",
    "    ax.tick_params(axis='both', which='major', length=5, width=1, labelsize=20,direction='in',pad=10)\n",
    "    ax.tick_params(axis='both', which='minor', length=3, width=1, direction='in')\n",
    "    ax.minorticks_on()\n",
    "    ax.yaxis.set_ticks_position('both')\n",
    "    ax.xaxis.set_ticks_position('both')\n",
    "    ax.set_aspect(1.0/ax.get_data_ratio(), adjustable='box')\n",
    "    plt.show()\n",
    "    #plt.savefig(quant_name+'.pdf')\n",
    "    return "
   ]
  },
  {
   "cell_type": "code",
   "execution_count": null,
   "metadata": {},
   "outputs": [],
   "source": [
    "def H(z):  #Hubble factor in SI units. sec^-1\n",
    "    return Ho*(Om_r*(1+z)**4+Om_m*(1+z)**3+Om_lam)**0.5/Mpc2km\n",
    "\n",
    "def hmf(Mh,z):#Mh in the halo mass in units of solar mass; output in cMpc**-3\n",
    "    M=Mh*h100 #M in units of solar mass/h\n",
    "    return h100**3*mass_function.massFunction(M, z, q_in='M', q_out='dndlnM', model = 'press74')\n",
    "\n",
    "def dndM(Mh,z):#Mh in the halo mass in units of solar mass; output in cMpc**-3.Msun**-1\n",
    "    M=Mh*h100 #M in units of solar mass/h\n",
    "    return h100**3*1/Mh*mass_function.massFunction(M, z, q_in='M', q_out='dndlnM', model = 'press74')\n",
    "    \n",
    "def luminosity(Mh,z,fstar): #For given halo mass (in solar mass) and redshift, what is the luminosity in W/Hz\n",
    "    return fstar*Mdot0*(Mh/1e10)**a*((1+z)/7)**b*l\n",
    "\n",
    "def MAB(Mh,z,fstar=0.1):  #Absolute AB magnitude, Mh in solar mass units.\n",
    "    return -2.5*np.log10(luminosity(Mh,z,fstar)/(4*np.pi*(10*3.086e16)**2))-56.1\n",
    "\n",
    "#For given halo mass (in solar mass) and redshift, get LF. It is in same units as HMF.\n",
    "#Also, note that this model is valid when SFE is a constant.\n",
    "def lum_func(Mh,z):\n",
    "    return 2*np.log(10)/5/a*hmf(Mh,z)\n",
    "\n",
    "def muv2Mh(muv,z,fstar=0.1): #muv is apparent magnitude; output is halo mass in solar mass units \n",
    "    DL = cosmo.luminosityDistance(z)/h100*3.086e22 #luminosity distance in meters.\n",
    "    Lum = 4*np.pi*DL**2*10**(-0.4*(muv+56.1)) #Halo luminosity in W/Hz\n",
    "    return 1e10*(Lum/(fstar*Mdot0*((1+z)/7)**b*l))**(1/a)\n",
    "\n",
    "#Given a limiting apparent magnitude and survey area (in deg), what is the number of galaxies seen at z\n",
    "def num_gal(muv_lim,area,z,fstar=0.1):\n",
    "    def Ngal(muv_lim,area,z,fstar):\n",
    "        Mh_lim = muv2Mh(muv_lim,z,fstar)\n",
    "        halo_masses=np.logspace(np.log10(Mh_lim),18,2000)\n",
    "        integral=scint.trapz(dndM(halo_masses,z),halo_masses)    #number per unit cMpc^3\n",
    "        DL = cosmo.luminosityDistance(z)/h100 #luminosity distance in Mpc\n",
    "        return 1/3.086e22*cE/H(z)*(DL/(1+z))**2*(np.pi/180)**2*integral*area\n",
    "    \n",
    "    if type(z)==np.ndarray:\n",
    "        leng = len(z)\n",
    "        N=np.zeros(leng)\n",
    "        count=0\n",
    "        for i in z:\n",
    "            N[count]=Ngal(muv_lim,area,i,fstar)\n",
    "            count=count+1\n",
    "    elif type(z)==list:\n",
    "        leng = len(z)\n",
    "        N=np.zeros(leng)\n",
    "        count=0\n",
    "        for i in z:\n",
    "            N[count]=Ngal(muv_lim,area,i,fstar)\n",
    "            count=count+1\n",
    "    else:\n",
    "        N=Ngal(muv_lim,area,z,fstar)\n",
    "        print('For survey area =',area,'deg and limiting magnitude =',muv_lim,'there are',round(N),'galaxies at z =',z)\n",
    "    return N"
   ]
  },
  {
   "cell_type": "code",
   "execution_count": null,
   "metadata": {},
   "outputs": [],
   "source": [
    "Mh=np.logspace(10,12) #range of halo masses (in solar mass). For JWST choose 10-11.5. For HST choose 10-12\n",
    "z=6  #and a redshift. For JWST choose z=9.2 and for HST choose z=6.\n",
    "\n",
    "#compute the luminosity function and the corresponding absolute magnitude.\n",
    "LF = lum_func(Mh,z)\n",
    "Muv = MAB(Mh,z)\n",
    "\n",
    "#You want to plot LF vs Muv, because that is how observers report their result"
   ]
  },
  {
   "cell_type": "code",
   "execution_count": null,
   "metadata": {},
   "outputs": [],
   "source": [
    "#Before jumping into LFs, try plotting the halo mass function\n",
    "plotter(Mh,hmf(Mh,z=6),xlog=True,ylog=True,quant_name='hmf',par_name='z',params=z)"
   ]
  },
  {
   "cell_type": "code",
   "execution_count": null,
   "metadata": {
    "scrolled": false
   },
   "outputs": [],
   "source": [
    "#plotter(Muv,LF,xlog=False,ylog=True,quant_name='lf',par_name='z',params=z,add_hst=True)\n",
    "plotter(Muv,LF,xlog=False,ylog=True,quant_name='lf',par_name='z',params=z,add_jwst=True)"
   ]
  },
  {
   "cell_type": "markdown",
   "metadata": {},
   "source": [
    "Now try increasing the star formation efficiency, $f_{\\star}$. Increasing the SFE you might get a better match with the *JWST* data at $z=11$."
   ]
  },
  {
   "cell_type": "code",
   "execution_count": null,
   "metadata": {},
   "outputs": [],
   "source": [
    "#Given the limiting apparent magnitude (1st arg), area in degree (2nd arg) and the redshift (3rd arg).\n",
    "#SFE (4th arg, optional)\n",
    "N = num_gal(30,1,10)"
   ]
  },
  {
   "cell_type": "code",
   "execution_count": null,
   "metadata": {},
   "outputs": [],
   "source": [
    "#Now investigate the number of galaxies for a given survey with redshift.\n",
    "zs = np.linspace(6,20)\n",
    "ng = num_gal(30,1,zs)\n",
    "plotter(zs,ng,xlog=False,ylog=True,quant_name='n',par_name='fs',params=0.1)"
   ]
  },
  {
   "cell_type": "code",
   "execution_count": null,
   "metadata": {},
   "outputs": [],
   "source": []
  }
 ],
 "metadata": {
  "kernelspec": {
   "display_name": "Python 3 (ipykernel)",
   "language": "python",
   "name": "python3"
  },
  "language_info": {
   "codemirror_mode": {
    "name": "ipython",
    "version": 3
   },
   "file_extension": ".py",
   "mimetype": "text/x-python",
   "name": "python",
   "nbconvert_exporter": "python",
   "pygments_lexer": "ipython3",
   "version": "3.10.12"
  }
 },
 "nbformat": 4,
 "nbformat_minor": 4
}
