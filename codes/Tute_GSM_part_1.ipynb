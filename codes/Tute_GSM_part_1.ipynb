{
 "cells": [
  {
   "cell_type": "code",
   "execution_count": null,
   "id": "6bcfa21b",
   "metadata": {},
   "outputs": [],
   "source": [
    "%matplotlib inline\n",
    "\n",
    "\n",
    "#essentials\n",
    "import numpy as np\n",
    "import pylab as plt\n",
    "from astropy import units as u\n",
    "from astropy.coordinates import SkyCoord, EarthLocation, AltAz\n",
    "import healpy as hp\n",
    "from datetime import datetime\n",
    "from pygdsm import GlobalSkyModel\n",
    "from pygdsm import GSMObserver\n",
    "\n",
    "\n",
    "#non essential\n",
    "import time\n",
    "from tqdm import tqdm\n",
    "from astropy.coordinates import Angle\n",
    "import numpy.ma as ma"
   ]
  },
  {
   "cell_type": "markdown",
   "id": "0bc1eb57",
   "metadata": {},
   "source": [
    "# Quick Plot"
   ]
  },
  {
   "cell_type": "markdown",
   "id": "e31fe94e",
   "metadata": {},
   "source": [
    "### haslam as basemap"
   ]
  },
  {
   "cell_type": "code",
   "execution_count": null,
   "id": "8b687471",
   "metadata": {},
   "outputs": [],
   "source": [
    "gsm = GlobalSkyModel(interpolation='cubic', basemap='haslam')\n",
    "\n",
    "freq = 150 # MHz unit\n",
    "gsm.generate(freq)  \n",
    "gsm.view(logged=True)"
   ]
  },
  {
   "cell_type": "markdown",
   "id": "d26c0f4f",
   "metadata": {},
   "source": [
    "### wmap as basemap"
   ]
  },
  {
   "cell_type": "code",
   "execution_count": null,
   "id": "1eb2345b",
   "metadata": {},
   "outputs": [],
   "source": [
    "gsm = GlobalSkyModel(freq_unit='MHz', interpolation='cubic', basemap='wmap')\n",
    "\n",
    "freq = 150 # MHz unit\n",
    "gsm.generate(freq)  \n",
    "gsm.view(logged=True)"
   ]
  },
  {
   "cell_type": "markdown",
   "id": "45bed5e9",
   "metadata": {},
   "source": [
    "# MollView Array and Spectral Index"
   ]
  },
  {
   "cell_type": "code",
   "execution_count": null,
   "id": "4d5591e3",
   "metadata": {},
   "outputs": [],
   "source": [
    "gsm = GlobalSkyModel(freq_unit='MHz', interpolation='cubic', basemap='haslam')"
   ]
  },
  {
   "cell_type": "markdown",
   "id": "05f1862c",
   "metadata": {},
   "source": [
    "### brightness temperature vs freq"
   ]
  },
  {
   "cell_type": "code",
   "execution_count": null,
   "id": "5cb71927",
   "metadata": {},
   "outputs": [],
   "source": [
    "map_cube.shape"
   ]
  },
  {
   "cell_type": "code",
   "execution_count": null,
   "id": "c81c6b9e",
   "metadata": {},
   "outputs": [],
   "source": [
    "freqs = np.linspace(10, 1000, 100)\n",
    "map_cube = gsm.generate(freqs)\n",
    "\n",
    "print(map_cube.shape)\n",
    "plt.loglog(freqs, map_cube[:,0])\n",
    "plt.loglog(freqs,map_cube[:,123])\n",
    "plt.loglog(freqs,map_cube[:,1546])\n",
    "plt.loglog(freqs,map_cube[:,166])\n",
    "plt.xlabel(\"Frequency [MHz]\")\n",
    "plt.ylabel(\"Temperature [K]\")"
   ]
  },
  {
   "cell_type": "code",
   "execution_count": null,
   "id": "4d7e09c7",
   "metadata": {},
   "outputs": [],
   "source": [
    "map_cube.shape"
   ]
  },
  {
   "cell_type": "markdown",
   "id": "f9b30d37",
   "metadata": {},
   "source": [
    "## calculating spectral index"
   ]
  },
  {
   "cell_type": "code",
   "execution_count": null,
   "id": "22074c7e",
   "metadata": {},
   "outputs": [],
   "source": [
    "freqs = np.array([45,150,408,1420]) #frequencies of map\n",
    "\n",
    "map_cube = gsm.generate(freqs)"
   ]
  },
  {
   "cell_type": "code",
   "execution_count": null,
   "id": "78649d2c",
   "metadata": {},
   "outputs": [],
   "source": [
    "spectral_index_1 = -1*np.log(map_cube[1]/map_cube[0])/np.log(freqs[1]/freqs[0])"
   ]
  },
  {
   "cell_type": "code",
   "execution_count": null,
   "id": "1f6a16c6",
   "metadata": {},
   "outputs": [],
   "source": [
    "spectral_index_2 = -1*np.log(map_cube[3]/map_cube[2])/np.log(freqs[3]/freqs[2])"
   ]
  },
  {
   "cell_type": "code",
   "execution_count": null,
   "id": "30577baa",
   "metadata": {},
   "outputs": [],
   "source": [
    "hp.mollview(spectral_index_1,cmap='inferno',norm='log')"
   ]
  },
  {
   "cell_type": "code",
   "execution_count": null,
   "id": "3a65974b",
   "metadata": {},
   "outputs": [],
   "source": [
    "hp.mollview(spectral_index_2,cmap='inferno',norm='log')"
   ]
  },
  {
   "cell_type": "markdown",
   "id": "aab7ea32",
   "metadata": {},
   "source": [
    "# Visible region of the sky"
   ]
  },
  {
   "cell_type": "code",
   "execution_count": null,
   "id": "7c787b79",
   "metadata": {},
   "outputs": [],
   "source": [
    "(latitude, longitude, elevation) = ('20.2961', '85.8245', 45) #Bhubaneswar Odisa\n",
    "ov = GSMObserver()\n",
    "ov.lon = longitude\n",
    "ov.lat = latitude\n",
    "ov.elev = elevation\n",
    "ov.date = datetime(2023, 6, 12, 17, 30)"
   ]
  },
  {
   "cell_type": "code",
   "execution_count": null,
   "id": "27daa8df",
   "metadata": {},
   "outputs": [],
   "source": [
    "ov.generate(150)\n",
    "sky_dome_view = ov.view(logged=True)"
   ]
  },
  {
   "cell_type": "code",
   "execution_count": null,
   "id": "2b0565d7",
   "metadata": {},
   "outputs": [],
   "source": [
    "sky_moll_view = ov.view_observed_gsm()"
   ]
  },
  {
   "cell_type": "code",
   "execution_count": null,
   "id": "37b19a87",
   "metadata": {},
   "outputs": [],
   "source": [
    "sky_moll_view"
   ]
  },
  {
   "cell_type": "code",
   "execution_count": null,
   "id": "cbf642a3",
   "metadata": {},
   "outputs": [],
   "source": [
    "NSIDE=16\n",
    "\n",
    "low_res_sky = hp.pixelfunc.ud_grade(sky_moll_view,nside_out=NSIDE)"
   ]
  },
  {
   "cell_type": "code",
   "execution_count": null,
   "id": "c8965643",
   "metadata": {},
   "outputs": [],
   "source": [
    "# moll full view\n",
    "hp.mollview(map_cube[1],cmap='inferno',unit='K',norm='hist')"
   ]
  },
  {
   "cell_type": "code",
   "execution_count": null,
   "id": "1f5d638b",
   "metadata": {},
   "outputs": [],
   "source": [
    "hp.mollview(sky_moll_view,cmap='inferno',unit='K',norm='hist')"
   ]
  },
  {
   "cell_type": "code",
   "execution_count": null,
   "id": "c094a188",
   "metadata": {},
   "outputs": [],
   "source": [
    "hp.mollview(low_res_sky,cmap='inferno',unit='K',norm='hist')"
   ]
  },
  {
   "cell_type": "code",
   "execution_count": null,
   "id": "45d560d5",
   "metadata": {},
   "outputs": [],
   "source": [
    "npix = len(sky_moll_view)"
   ]
  },
  {
   "cell_type": "code",
   "execution_count": null,
   "id": "25baf232",
   "metadata": {},
   "outputs": [],
   "source": [
    "print(f\"Angular resolution of the original map: \\\n",
    "{np.degrees(hp.pixelfunc.nside2resol(hp.pixelfunc.npix2nside(npix))):.2f} degrees\")\n",
    "print(f\"NSIDE of the original map: {hp.pixelfunc.npix2nside(npix)}\")\n",
    "print(f\"Angular resolution: {np.degrees(hp.pixelfunc.nside2resol(NSIDE)):.2f} degrees\")\n",
    "print(f\"Number of pixels: {hp.pixelfunc.nside2npix(NSIDE)}\")"
   ]
  },
  {
   "cell_type": "markdown",
   "id": "5a3e06f1",
   "metadata": {},
   "source": [
    "# Converting converting healpy_pxl_idx to local alt-az"
   ]
  },
  {
   "cell_type": "code",
   "execution_count": null,
   "id": "0d6b2503",
   "metadata": {},
   "outputs": [],
   "source": [
    "ipix = int(3145728/16)\n",
    "nside = hp.npix2nside(3145728)\n",
    "theta, phi = hp.pix2ang(nside, ipix)\n",
    "ra = np.rad2deg(phi) # ra in degrees in degrees ICRS\n",
    "dec = np.rad2deg(0.5 * np.pi - theta) # dec in degrees ICRS\n",
    "\n",
    "print(ra)\n",
    "print(dec)"
   ]
  },
  {
   "cell_type": "code",
   "execution_count": null,
   "id": "b7b5f306",
   "metadata": {},
   "outputs": [],
   "source": [
    "c_icrs = SkyCoord(ra=ra*u.degree, dec=dec*u.degree, frame='icrs')\n",
    "c_icrs.galactic "
   ]
  },
  {
   "cell_type": "code",
   "execution_count": null,
   "id": "b49cf268",
   "metadata": {},
   "outputs": [],
   "source": [
    "(latitude, longitude, elevation) = ('20.2961', '85.8245', 100)\n",
    "time = datetime(2023, 12, 12, 17, 30)\n",
    "\n",
    "\n",
    "earth_location = EarthLocation(lat=float(latitude)*u.deg, lon=float(longitude)*u.deg,height=elevation*u.m)\n",
    "icrs_coord = SkyCoord(ra=ra*u.degree, dec=dec*u.degree, frame='icrs')\n",
    "\n",
    "trans_local = icrs_coord.transform_to(AltAz(obstime=time, location=earth_location))\n",
    "\n",
    "az, alt                     = trans_local.az.degree, trans_local.alt.degree\n",
    "\n",
    "print(f'alt:{alt}')\n",
    "print(f'az:{az}')"
   ]
  },
  {
   "cell_type": "markdown",
   "id": "09944d52",
   "metadata": {},
   "source": [
    "# Beam Weighting"
   ]
  },
  {
   "cell_type": "markdown",
   "id": "67401089",
   "metadata": {},
   "source": [
    "## this is where your assignment part comes in"
   ]
  },
  {
   "cell_type": "markdown",
   "id": "69d97050",
   "metadata": {},
   "source": [
    "#### 1. Weight the visible sky in your region with a $\\cos^{2}\\theta$(where $\\theta$ is alt angle) beam and take mean."
   ]
  },
  {
   "cell_type": "markdown",
   "id": "303a889d",
   "metadata": {},
   "source": [
    "#### 2. Do it for multiple frequencies and find the beam. "
   ]
  },
  {
   "cell_type": "markdown",
   "id": "2b743366",
   "metadata": {},
   "source": [
    "#### 3. plot the means against frequency axis and try modeling it."
   ]
  }
 ],
 "metadata": {
  "kernelspec": {
   "display_name": "Python 3 (ipykernel)",
   "language": "python",
   "name": "python3"
  },
  "language_info": {
   "codemirror_mode": {
    "name": "ipython",
    "version": 3
   },
   "file_extension": ".py",
   "mimetype": "text/x-python",
   "name": "python",
   "nbconvert_exporter": "python",
   "pygments_lexer": "ipython3",
   "version": "3.10.11"
  }
 },
 "nbformat": 4,
 "nbformat_minor": 5
}
